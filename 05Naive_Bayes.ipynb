{
 "cells": [
  {
   "cell_type": "markdown",
   "metadata": {},
   "source": [
    "# Naive Bayes 실습"
   ]
  },
  {
   "cell_type": "markdown",
   "metadata": {},
   "source": [
    "# 1. Gaussian Naive Bayes"
   ]
  },
  {
   "cell_type": "markdown",
   "metadata": {},
   "source": [
    "- 데이터, 모듈 불러오기"
   ]
  },
  {
   "cell_type": "code",
   "execution_count": 1,
   "metadata": {},
   "outputs": [],
   "source": [
    "# 데이터 분석을 위한 라이브러리 불러오기\n",
    "from sklearn import datasets\n",
    "from sklearn.naive_bayes import GaussianNB"
   ]
  },
  {
   "cell_type": "code",
   "execution_count": 2,
   "metadata": {},
   "outputs": [],
   "source": [
    "import pandas as pd"
   ]
  },
  {
   "cell_type": "code",
   "execution_count": 3,
   "metadata": {},
   "outputs": [],
   "source": [
    "iris = datasets.load_iris() # sample data load"
   ]
  },
  {
   "cell_type": "code",
   "execution_count": null,
   "metadata": {},
   "outputs": [],
   "source": [
    "# iris데이터\n",
    "'''\n",
    "<feature>\n",
    "Sepal Length 꽃받침의 길이\n",
    "Sepal Width 꽃받침의 너비 \n",
    "Petal Length 꽃잎의 길이  \n",
    "Petal Width 꽃잎의 너비\n",
    "<label>\n",
    "Species 꽃의 종류: setosa / versicolor / virginica 3종류로 구분'''\n"
   ]
  },
  {
   "cell_type": "code",
   "execution_count": 4,
   "metadata": {
    "collapsed": true
   },
   "source": [
    "print(iris)  # 로드된 데이터가 속성-스타일 접근을 제공하는 딕셔너리와 번치 객체로 표현된 것을 확인\n",
    "print(iris.DESCR) # Description 속성을 이용해서 데이터셋의 정보를 확인"
   ]
  },
  {
   "cell_type": "code",
   "execution_count": 5,
   "metadata": {},
   "outputs": [
    {
     "name": "stdout",
     "output_type": "stream",
     "text": [
      "['sepal length (cm)', 'sepal width (cm)', 'petal length (cm)', 'petal width (cm)']\n"
     ]
    }
   ],
   "source": [
    "# feature에 저장된 value, feature이름 확인\n",
    "# print(iris.data)\n",
    "print(iris.feature_names)"
   ]
  },
  {
   "cell_type": "code",
   "execution_count": 6,
   "metadata": {},
   "outputs": [
    {
     "name": "stdout",
     "output_type": "stream",
     "text": [
      "['setosa' 'versicolor' 'virginica']\n"
     ]
    }
   ],
   "source": [
    "# target에 저장된 value, target이름 확인\n",
    "# print(iris.target)\n",
    "print(iris.target_names)"
   ]
  },
  {
   "cell_type": "code",
   "execution_count": 14,
   "metadata": {},
   "outputs": [],
   "source": [
    "# 데이터프레임 생성\n",
    "# df_X: iris의 feature 저장\n",
    "df_X=pd.DataFrame(data = iris.data, columns = iris.feature_names)\n",
    "# df_Y: iris의 target 저장\n",
    "df_Y=pd.DataFrame(data = iris.target)"
   ]
  },
  {
   "cell_type": "code",
   "execution_count": 11,
   "metadata": {
    "scrolled": true
   },
   "outputs": [
    {
     "data": {
      "text/html": [
       "<div>\n",
       "<style scoped>\n",
       "    .dataframe tbody tr th:only-of-type {\n",
       "        vertical-align: middle;\n",
       "    }\n",
       "\n",
       "    .dataframe tbody tr th {\n",
       "        vertical-align: top;\n",
       "    }\n",
       "\n",
       "    .dataframe thead th {\n",
       "        text-align: right;\n",
       "    }\n",
       "</style>\n",
       "<table border=\"1\" class=\"dataframe\">\n",
       "  <thead>\n",
       "    <tr style=\"text-align: right;\">\n",
       "      <th></th>\n",
       "      <th>sepal length (cm)</th>\n",
       "      <th>sepal width (cm)</th>\n",
       "      <th>petal length (cm)</th>\n",
       "      <th>petal width (cm)</th>\n",
       "    </tr>\n",
       "  </thead>\n",
       "  <tbody>\n",
       "    <tr>\n",
       "      <th>0</th>\n",
       "      <td>5.1</td>\n",
       "      <td>3.5</td>\n",
       "      <td>1.4</td>\n",
       "      <td>0.2</td>\n",
       "    </tr>\n",
       "    <tr>\n",
       "      <th>1</th>\n",
       "      <td>4.9</td>\n",
       "      <td>3.0</td>\n",
       "      <td>1.4</td>\n",
       "      <td>0.2</td>\n",
       "    </tr>\n",
       "    <tr>\n",
       "      <th>2</th>\n",
       "      <td>4.7</td>\n",
       "      <td>3.2</td>\n",
       "      <td>1.3</td>\n",
       "      <td>0.2</td>\n",
       "    </tr>\n",
       "    <tr>\n",
       "      <th>3</th>\n",
       "      <td>4.6</td>\n",
       "      <td>3.1</td>\n",
       "      <td>1.5</td>\n",
       "      <td>0.2</td>\n",
       "    </tr>\n",
       "    <tr>\n",
       "      <th>4</th>\n",
       "      <td>5.0</td>\n",
       "      <td>3.6</td>\n",
       "      <td>1.4</td>\n",
       "      <td>0.2</td>\n",
       "    </tr>\n",
       "  </tbody>\n",
       "</table>\n",
       "</div>"
      ],
      "text/plain": [
       "   sepal length (cm)  sepal width (cm)  petal length (cm)  petal width (cm)\n",
       "0                5.1               3.5                1.4               0.2\n",
       "1                4.9               3.0                1.4               0.2\n",
       "2                4.7               3.2                1.3               0.2\n",
       "3                4.6               3.1                1.5               0.2\n",
       "4                5.0               3.6                1.4               0.2"
      ]
     },
     "execution_count": 11,
     "metadata": {},
     "output_type": "execute_result"
    }
   ],
   "source": [
    "df_X.head()"
   ]
  },
  {
   "cell_type": "code",
   "execution_count": 12,
   "metadata": {},
   "outputs": [
    {
     "data": {
      "text/html": [
       "<div>\n",
       "<style scoped>\n",
       "    .dataframe tbody tr th:only-of-type {\n",
       "        vertical-align: middle;\n",
       "    }\n",
       "\n",
       "    .dataframe tbody tr th {\n",
       "        vertical-align: top;\n",
       "    }\n",
       "\n",
       "    .dataframe thead th {\n",
       "        text-align: right;\n",
       "    }\n",
       "</style>\n",
       "<table border=\"1\" class=\"dataframe\">\n",
       "  <thead>\n",
       "    <tr style=\"text-align: right;\">\n",
       "      <th></th>\n",
       "      <th>0</th>\n",
       "    </tr>\n",
       "  </thead>\n",
       "  <tbody>\n",
       "    <tr>\n",
       "      <th>0</th>\n",
       "      <td>0</td>\n",
       "    </tr>\n",
       "    <tr>\n",
       "      <th>1</th>\n",
       "      <td>0</td>\n",
       "    </tr>\n",
       "    <tr>\n",
       "      <th>2</th>\n",
       "      <td>0</td>\n",
       "    </tr>\n",
       "    <tr>\n",
       "      <th>3</th>\n",
       "      <td>0</td>\n",
       "    </tr>\n",
       "    <tr>\n",
       "      <th>4</th>\n",
       "      <td>0</td>\n",
       "    </tr>\n",
       "  </tbody>\n",
       "</table>\n",
       "</div>"
      ],
      "text/plain": [
       "   0\n",
       "0  0\n",
       "1  0\n",
       "2  0\n",
       "3  0\n",
       "4  0"
      ]
     },
     "execution_count": 12,
     "metadata": {},
     "output_type": "execute_result"
    }
   ],
   "source": [
    "df_Y.head()"
   ]
  },
  {
   "cell_type": "markdown",
   "metadata": {},
   "source": [
    "- 모델 피팅"
   ]
  },
  {
   "cell_type": "code",
   "execution_count": 15,
   "metadata": {},
   "outputs": [],
   "source": [
    "# 가우시안 나이브 베이즈\n",
    "gnb = GaussianNB() # 나이브 베이지 분류기 생성\n",
    "fitted = gnb.fit(iris.data, iris.target) # 생성한 분류기 학습시키기\n",
    "y_pred = fitted.predict(iris.data) # 학습된 분류기로 값 예측"
   ]
  },
  {
   "cell_type": "code",
   "execution_count": 16,
   "metadata": {},
   "outputs": [
    {
     "data": {
      "text/plain": [
       "array([[1.00000000e+000, 1.51480769e-017, 2.34820051e-025],\n",
       "       [1.00000000e+000, 2.63876217e-018, 2.79566024e-025],\n",
       "       [7.27347795e-102, 9.45169639e-001, 5.48303606e-002],\n",
       "       [3.23245181e-254, 6.35381031e-011, 1.00000000e+000]])"
      ]
     },
     "execution_count": 16,
     "metadata": {},
     "output_type": "execute_result"
    }
   ],
   "source": [
    "fitted.predict_proba(iris.data)[[1,48,51,100]]\n",
    "'''1번째 데이터 : 0범주의 확률이 1\n",
    "48번째 데이터 : 0범주의 확률이 1\n",
    "51번째 데이터 : 1범주의 확률이 0.94\n",
    "100번째 데이터 : 2범주의 확률이 1'''"
   ]
  },
  {
   "cell_type": "code",
   "execution_count": 17,
   "metadata": {},
   "outputs": [
    {
     "data": {
      "text/plain": [
       "array([0, 0, 1, 2])"
      ]
     },
     "execution_count": 17,
     "metadata": {},
     "output_type": "execute_result"
    }
   ],
   "source": [
    "fitted.predict(iris.data)[[1,48,51,100]]"
   ]
  },
  {
   "cell_type": "markdown",
   "metadata": {},
   "source": [
    "- Confusion matrix 구하기"
   ]
  },
  {
   "cell_type": "code",
   "execution_count": 18,
   "metadata": {},
   "outputs": [],
   "source": [
    "from sklearn.metrics import confusion_matrix"
   ]
  },
  {
   "cell_type": "code",
   "execution_count": 19,
   "metadata": {},
   "outputs": [
    {
     "data": {
      "text/plain": [
       "array([[50,  0,  0],\n",
       "       [ 0, 47,  3],\n",
       "       [ 0,  3, 47]], dtype=int64)"
      ]
     },
     "execution_count": 19,
     "metadata": {},
     "output_type": "execute_result"
    }
   ],
   "source": [
    "# confusion_matrix = 분류결과표\n",
    "# 정답 클래스는 행(row)으로 예측한 클래스는 열(column)로 나타낸다.\n",
    "confusion_matrix(iris.target,y_pred)\n",
    "'''\n",
    "정답 클래스가 0, 예측 클래스가 0인 표본의 수 : 50개\n",
    "정답 클래스가 1, 예측 클래스가 1인 표본의 수 : 47개 / 정답 클래스가 1, 예측 클래스가 2인 표본의 수 : 3개\n",
    "정답 클래스가 2, 예측 클래스가 1인 표본의 수 : 3개  / 정답 클래스가 2, 예측 클래스가 2인 표본의 수 : 47개\n",
    "'''\n",
    "# 간단하지만 Performance가 상당히 좋다! -> 나이브 베이즈의 장점"
   ]
  },
  {
   "cell_type": "markdown",
   "metadata": {},
   "source": [
    "- Prior 설정하기"
   ]
  },
  {
   "cell_type": "code",
   "execution_count": 20,
   "metadata": {},
   "outputs": [
    {
     "data": {
      "text/plain": [
       "array([[50,  0,  0],\n",
       "       [ 0, 33, 17],\n",
       "       [ 0,  0, 50]], dtype=int64)"
      ]
     },
     "execution_count": 20,
     "metadata": {},
     "output_type": "execute_result"
    }
   ],
   "source": [
    "# Prior: 특정 결과의 출현확률이 더 많다고 가중치를 주는 행위이다. \n",
    "# Prior을 직접 설정하여 분류작업을 진행\n",
    "\n",
    "# 분류 결과를 2로 예측할 결과를 높이면,\n",
    "gnb2 = GaussianNB(priors=[1/100, 1/100, 98/100]) \n",
    "fitted2 = gnb2.fit(iris.data, iris.target)\n",
    "y_pred2 = fitted2.predict(iris.data)\n",
    "confusion_matrix(iris.target, y_pred2)\n",
    "\n",
    "# 2가 나올 확률(표에선 세 번째 값) 높였더니 정답 클래스가 2인 꽃을 2로 예측할 확률은 100%\n",
    "# 그러나 정답 클래스가 1인 꽃까지 2로 분류해버림 -> trade-off"
   ]
  },
  {
   "cell_type": "code",
   "execution_count": 21,
   "metadata": {},
   "outputs": [
    {
     "data": {
      "text/plain": [
       "array([[50,  0,  0],\n",
       "       [ 0, 50,  0],\n",
       "       [ 0, 14, 36]], dtype=int64)"
      ]
     },
     "execution_count": 21,
     "metadata": {},
     "output_type": "execute_result"
    }
   ],
   "source": [
    "# 분류 결과를 1로 예측할 결과를 높이면,\n",
    "gnb2 = GaussianNB(priors=[1/100, 98/100, 1/100])\n",
    "fitted2 = gnb2.fit(iris.data, iris.target)\n",
    "y_pred2 = fitted2.predict(iris.data)\n",
    "confusion_matrix(iris.target, y_pred2)\n",
    "\n",
    "# 역시 trade-off"
   ]
  },
  {
   "cell_type": "markdown",
   "metadata": {},
   "source": [
    "# 2. Multinomial naive bayes"
   ]
  },
  {
   "cell_type": "markdown",
   "metadata": {},
   "source": [
    "- 모듈 불러오기 및 데이터 생성"
   ]
  },
  {
   "cell_type": "code",
   "execution_count": 22,
   "metadata": {},
   "outputs": [],
   "source": [
    "from sklearn.naive_bayes import MultinomialNB"
   ]
  },
  {
   "cell_type": "code",
   "execution_count": 23,
   "metadata": {},
   "outputs": [],
   "source": [
    "import numpy as np"
   ]
  },
  {
   "cell_type": "code",
   "execution_count": 24,
   "metadata": {},
   "outputs": [],
   "source": [
    "# Multinomial Naive Bayes모델은 X도 범주형 데이터여야 하기 때문에\n",
    "# 난수를 생성하는 방식을 통해서 Multinomial Naive Bayes모델을 실습\n",
    "# 난수이기 때문에 의미없는 데이터 분류지만 \"이렇게 모델 학습한다~\" 정도만 알아두기\n",
    "\n",
    "# 0 ~ 4까지 정수 범위에서 row 6, column 100인 행렬 생성. 즉, ( 6 x 100 ) array\n",
    "X = np.random.randint(5, size=(6, 100))\n",
    "y = np.array([1, 2, 3, 4, 5, 6])"
   ]
  },
  {
   "cell_type": "code",
   "execution_count": 26,
   "metadata": {},
   "outputs": [
    {
     "name": "stdout",
     "output_type": "stream",
     "text": [
      "[[3 4 4 3 2 2 4 0 1 2 0 3 2 2 0 3 1 1 1 2 0 4 1 3 0 0 3 3 4 3 1 0 3 4 2 3\n",
      "  1 3 4 1 4 1 2 1 0 0 0 0 0 1 3 4 2 1 3 0 1 4 0 0 3 3 4 0 2 4 0 0 1 3 3 2\n",
      "  2 0 1 4 2 0 3 4 4 2 1 4 2 0 3 1 0 4 3 2 2 0 3 3 0 3 4 4]\n",
      " [3 3 2 1 2 3 3 0 1 0 1 0 0 3 0 2 1 3 2 0 2 1 4 0 2 2 2 4 4 0 0 2 3 3 3 2\n",
      "  3 3 1 2 4 3 3 0 4 0 1 1 1 1 0 2 1 1 0 2 0 4 0 1 0 0 1 2 0 2 4 3 4 4 2 2\n",
      "  2 3 2 4 1 3 2 3 2 1 2 0 0 4 4 3 3 0 1 0 2 1 3 2 0 1 2 1]\n",
      " [1 4 1 1 0 4 3 3 2 1 3 4 2 4 4 1 3 3 3 0 3 1 1 3 3 3 1 3 1 4 0 1 1 4 0 2\n",
      "  2 2 1 2 2 2 4 3 0 2 3 3 2 3 3 3 4 4 0 0 0 3 1 4 3 4 0 1 3 0 1 1 2 1 1 4\n",
      "  4 2 3 0 3 2 3 3 1 2 0 4 4 3 4 2 1 2 3 4 4 4 1 1 0 4 3 1]\n",
      " [3 1 1 2 2 3 1 3 0 4 1 0 0 1 3 4 0 3 0 1 2 4 0 3 0 0 2 1 3 3 4 4 4 2 2 4\n",
      "  3 1 1 0 2 3 4 0 3 1 1 0 2 3 4 3 2 1 0 3 2 3 0 2 2 3 1 4 3 2 2 0 1 3 0 3\n",
      "  4 4 0 1 4 4 0 2 2 2 2 0 1 3 2 4 1 2 3 3 4 1 3 0 3 4 1 3]\n",
      " [0 4 0 0 4 3 1 0 1 2 3 2 1 3 0 2 3 3 0 4 4 3 4 0 4 0 4 0 1 1 1 3 0 4 0 2\n",
      "  3 0 3 1 4 2 0 2 2 3 4 0 1 4 3 0 1 3 1 1 0 2 4 1 4 2 3 1 0 3 2 3 3 0 3 1\n",
      "  2 3 2 3 0 3 3 2 1 4 1 0 2 3 3 0 2 0 0 4 2 1 4 3 3 0 3 0]\n",
      " [4 3 1 3 3 0 0 3 1 4 3 0 0 0 0 1 1 2 1 4 2 2 3 2 3 3 1 2 0 1 4 3 4 3 4 4\n",
      "  0 2 2 2 4 1 2 2 3 1 0 3 0 4 4 4 1 1 1 2 1 1 1 2 3 1 4 3 4 1 3 1 2 0 4 0\n",
      "  1 0 1 2 4 1 2 0 4 0 3 3 1 3 0 2 0 3 2 4 1 1 4 0 2 4 2 0]]\n"
     ]
    }
   ],
   "source": [
    "print(X)"
   ]
  },
  {
   "cell_type": "code",
   "execution_count": 27,
   "metadata": {},
   "outputs": [
    {
     "data": {
      "text/plain": [
       "array([1, 2, 3, 4, 5, 6])"
      ]
     },
     "execution_count": 27,
     "metadata": {},
     "output_type": "execute_result"
    }
   ],
   "source": [
    "y"
   ]
  },
  {
   "cell_type": "markdown",
   "metadata": {},
   "source": [
    "- Multinomial naive bayes 모델 생성"
   ]
  },
  {
   "cell_type": "code",
   "execution_count": 39,
   "metadata": {},
   "outputs": [
    {
     "data": {
      "text/plain": [
       "array([[1, 4, 1, 1, 0, 4, 3, 3, 2, 1, 3, 4, 2, 4, 4, 1, 3, 3, 3, 0, 3, 1,\n",
       "        1, 3, 3, 3, 1, 3, 1, 4, 0, 1, 1, 4, 0, 2, 2, 2, 1, 2, 2, 2, 4, 3,\n",
       "        0, 2, 3, 3, 2, 3, 3, 3, 4, 4, 0, 0, 0, 3, 1, 4, 3, 4, 0, 1, 3, 0,\n",
       "        1, 1, 2, 1, 1, 4, 4, 2, 3, 0, 3, 2, 3, 3, 1, 2, 0, 4, 4, 3, 4, 2,\n",
       "        1, 2, 3, 4, 4, 4, 1, 1, 0, 4, 3, 1]])"
      ]
     },
     "execution_count": 39,
     "metadata": {},
     "output_type": "execute_result"
    }
   ],
   "source": [
    "clf = MultinomialNB()\n",
    "clf.fit(X, y) # 분류기 학습 시키기\n",
    "\n",
    "X[2:3]"
   ]
  },
  {
   "cell_type": "code",
   "execution_count": 46,
   "metadata": {},
   "outputs": [
    {
     "name": "stdout",
     "output_type": "stream",
     "text": [
      "[3]\n"
     ]
    }
   ],
   "source": [
    "print(clf.predict(X[2:3])) # X[2:3]과 같은 X를 가지면 범주 3으로 분류한다."
   ]
  },
  {
   "cell_type": "code",
   "execution_count": 40,
   "metadata": {},
   "outputs": [
    {
     "data": {
      "text/plain": [
       "array([[2.01654363e-33, 2.50443701e-36, 1.00000000e+00, 1.10887843e-32,\n",
       "        1.25206730e-35, 2.79546622e-38]])"
      ]
     },
     "execution_count": 40,
     "metadata": {},
     "output_type": "execute_result"
    }
   ],
   "source": [
    "clf.predict_proba(X[2:3])"
   ]
  },
  {
   "cell_type": "markdown",
   "metadata": {},
   "source": [
    "- prior 변경해보기"
   ]
  },
  {
   "cell_type": "code",
   "execution_count": 41,
   "metadata": {},
   "outputs": [
    {
     "data": {
      "text/plain": [
       "MultinomialNB(class_prior=[0.1, 0.5, 0.1, 0.1, 0.1, 0.1])"
      ]
     },
     "execution_count": 41,
     "metadata": {},
     "output_type": "execute_result"
    }
   ],
   "source": [
    "# 위와 마찬가지로 prior를 변경시킬 수 있고, 그 결과 2라고 예측할 확률이 전보다 조금 높아진 것을 볼 수 있다.\n",
    "clf2 = MultinomialNB(class_prior=[0.1, 0.5, 0.1, 0.1, 0.1, 0.1])\n",
    "clf2.fit(X, y)"
   ]
  },
  {
   "cell_type": "code",
   "execution_count": 44,
   "metadata": {},
   "outputs": [
    {
     "data": {
      "text/plain": [
       "array([[2.10763551e-40, 5.70857296e-31, 5.49166195e-35, 1.80791767e-39,\n",
       "        1.00000000e+00, 4.21800589e-36]])"
      ]
     },
     "execution_count": 44,
     "metadata": {},
     "output_type": "execute_result"
    }
   ],
   "source": [
    "clf2.predict_proba(X[2:3])"
   ]
  },
  {
   "cell_type": "code",
   "execution_count": 45,
   "metadata": {},
   "outputs": [
    {
     "name": "stdout",
     "output_type": "stream",
     "text": [
      "[1]\n",
      "[2]\n",
      "[3]\n",
      "[4]\n",
      "[5]\n",
      "[6]\n"
     ]
    }
   ],
   "source": [
    "print(clf.predict(X[0:1]))\n",
    "print(clf.predict(X[1:2]))\n",
    "print(clf.predict(X[2:3]))\n",
    "print(clf.predict(X[3:4]))\n",
    "print(clf.predict(X[4:5]))\n",
    "print(clf.predict(X[5:6]))"
   ]
  },
  {
   "cell_type": "code",
   "execution_count": null,
   "metadata": {},
   "outputs": [],
   "source": []
  }
 ],
 "metadata": {
  "kernelspec": {
   "display_name": "Python 3",
   "language": "python",
   "name": "python3"
  },
  "language_info": {
   "codemirror_mode": {
    "name": "ipython",
    "version": 3
   },
   "file_extension": ".py",
   "mimetype": "text/x-python",
   "name": "python",
   "nbconvert_exporter": "python",
   "pygments_lexer": "ipython3",
   "version": "3.8.5"
  }
 },
 "nbformat": 4,
 "nbformat_minor": 2
}
