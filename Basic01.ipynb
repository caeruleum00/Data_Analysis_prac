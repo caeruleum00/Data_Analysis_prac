{
 "cells": [
  {
   "cell_type": "markdown",
   "metadata": {},
   "source": [
    "### import 명령어를 통해 Pandas를 불러오겠습니다"
   ]
  },
  {
   "cell_type": "code",
   "execution_count": 2,
   "metadata": {},
   "outputs": [],
   "source": [
    "import pandas as pd"
   ]
  },
  {
   "cell_type": "markdown",
   "metadata": {},
   "source": [
    "뒤에 붙은 \"as pd\"는 앞으로 pandas를 pd라고 짧게 부를께! 라는 의미입니다. 일종의 줄임말이죠"
   ]
  },
  {
   "cell_type": "markdown",
   "metadata": {},
   "source": [
    "&nbsp;"
   ]
  },
  {
   "cell_type": "markdown",
   "metadata": {},
   "source": [
    "### pandas를 불러왔으면 이제 일을 해야겠죠?\n",
    "#### 우리가 쓰고 싶은 데이터를 폴더에서 불러올때는 \n",
    "-> pd.read_excel('파일경로') 명령어를 사용합니다. 만약 csv 파일을 불러오고 싶으면 pd.read_csv('파일경로')명령어를 사용하면 됩니다.  \n",
    "\n",
    "- pd.read_excel('파일경로')\n",
    "- pd.read_csv('파일경로')"
   ]
  },
  {
   "cell_type": "code",
   "execution_count": 29,
   "metadata": {},
   "outputs": [
    {
     "data": {
      "text/html": [
       "<div>\n",
       "<style scoped>\n",
       "    .dataframe tbody tr th:only-of-type {\n",
       "        vertical-align: middle;\n",
       "    }\n",
       "\n",
       "    .dataframe tbody tr th {\n",
       "        vertical-align: top;\n",
       "    }\n",
       "\n",
       "    .dataframe thead th {\n",
       "        text-align: right;\n",
       "    }\n",
       "</style>\n",
       "<table border=\"1\" class=\"dataframe\">\n",
       "  <thead>\n",
       "    <tr style=\"text-align: right;\">\n",
       "      <th></th>\n",
       "      <th>학생</th>\n",
       "      <th>국어</th>\n",
       "      <th>수학</th>\n",
       "      <th>영어</th>\n",
       "      <th>사회</th>\n",
       "      <th>과학</th>\n",
       "    </tr>\n",
       "  </thead>\n",
       "  <tbody>\n",
       "    <tr>\n",
       "      <th>0</th>\n",
       "      <td>정재찬</td>\n",
       "      <td>25</td>\n",
       "      <td>33</td>\n",
       "      <td>50</td>\n",
       "      <td>42</td>\n",
       "      <td>82</td>\n",
       "    </tr>\n",
       "    <tr>\n",
       "      <th>1</th>\n",
       "      <td>남홍주</td>\n",
       "      <td>90</td>\n",
       "      <td>96</td>\n",
       "      <td>85</td>\n",
       "      <td>72</td>\n",
       "      <td>44</td>\n",
       "    </tr>\n",
       "    <tr>\n",
       "      <th>2</th>\n",
       "      <td>이유범</td>\n",
       "      <td>61</td>\n",
       "      <td>55</td>\n",
       "      <td>70</td>\n",
       "      <td>95</td>\n",
       "      <td>27</td>\n",
       "    </tr>\n",
       "    <tr>\n",
       "      <th>3</th>\n",
       "      <td>한우탁</td>\n",
       "      <td>39</td>\n",
       "      <td>89</td>\n",
       "      <td>93</td>\n",
       "      <td>52</td>\n",
       "      <td>82</td>\n",
       "    </tr>\n",
       "    <tr>\n",
       "      <th>4</th>\n",
       "      <td>신희민</td>\n",
       "      <td>70</td>\n",
       "      <td>49</td>\n",
       "      <td>28</td>\n",
       "      <td>16</td>\n",
       "      <td>35</td>\n",
       "    </tr>\n",
       "    <tr>\n",
       "      <th>5</th>\n",
       "      <td>어랏</td>\n",
       "      <td>왜</td>\n",
       "      <td>여기에</td>\n",
       "      <td>데이터가</td>\n",
       "      <td>…</td>\n",
       "      <td>실수^_^</td>\n",
       "    </tr>\n",
       "  </tbody>\n",
       "</table>\n",
       "</div>"
      ],
      "text/plain": [
       "    학생  국어   수학    영어  사회     과학\n",
       "0  정재찬  25   33    50  42     82\n",
       "1  남홍주  90   96    85  72     44\n",
       "2  이유범  61   55    70  95     27\n",
       "3  한우탁  39   89    93  52     82\n",
       "4  신희민  70   49    28  16     35\n",
       "5   어랏   왜  여기에  데이터가   …  실수^_^"
      ]
     },
     "execution_count": 29,
     "metadata": {},
     "output_type": "execute_result"
    }
   ],
   "source": [
    "# 저는 파일경로를 따로 변수에 저장한 후 실행해볼께요\n",
    "\n",
    "fpath = './posting_data/ex_student.xlsx'\n",
    "data = pd.read_excel(fpath)\n",
    "\n",
    "data"
   ]
  },
  {
   "cell_type": "markdown",
   "metadata": {},
   "source": [
    "&nbsp;"
   ]
  },
  {
   "cell_type": "markdown",
   "metadata": {},
   "source": [
    "파일을 불러와서 읽어보았더니 위와 같이 표 형태로 잘 나옵니다.  \n",
    "가장 왼쪽에 있는 0,1,2,..가 표의 인덱스입니다."
   ]
  },
  {
   "cell_type": "markdown",
   "metadata": {},
   "source": [
    "아무것도 지정하지 않으면 디폴트로 숫자가 인덱스로 매겨집니다.  \n",
    "<b>만약, 숫자가 아닌 '학생'이라는 Column을 인덱스로 지정하고 싶다면  \n",
    "- pd.read_excel(fpath, index_col = '학생') 이라는 명령어를 사용해주면 됩니다."
   ]
  },
  {
   "cell_type": "code",
   "execution_count": 38,
   "metadata": {},
   "outputs": [
    {
     "data": {
      "text/html": [
       "<div>\n",
       "<style scoped>\n",
       "    .dataframe tbody tr th:only-of-type {\n",
       "        vertical-align: middle;\n",
       "    }\n",
       "\n",
       "    .dataframe tbody tr th {\n",
       "        vertical-align: top;\n",
       "    }\n",
       "\n",
       "    .dataframe thead th {\n",
       "        text-align: right;\n",
       "    }\n",
       "</style>\n",
       "<table border=\"1\" class=\"dataframe\">\n",
       "  <thead>\n",
       "    <tr style=\"text-align: right;\">\n",
       "      <th></th>\n",
       "      <th>국어</th>\n",
       "      <th>수학</th>\n",
       "      <th>영어</th>\n",
       "      <th>사회</th>\n",
       "      <th>과학</th>\n",
       "    </tr>\n",
       "    <tr>\n",
       "      <th>학생</th>\n",
       "      <th></th>\n",
       "      <th></th>\n",
       "      <th></th>\n",
       "      <th></th>\n",
       "      <th></th>\n",
       "    </tr>\n",
       "  </thead>\n",
       "  <tbody>\n",
       "    <tr>\n",
       "      <th>정재찬</th>\n",
       "      <td>25</td>\n",
       "      <td>33</td>\n",
       "      <td>50</td>\n",
       "      <td>42</td>\n",
       "      <td>82</td>\n",
       "    </tr>\n",
       "    <tr>\n",
       "      <th>남홍주</th>\n",
       "      <td>90</td>\n",
       "      <td>96</td>\n",
       "      <td>85</td>\n",
       "      <td>72</td>\n",
       "      <td>44</td>\n",
       "    </tr>\n",
       "    <tr>\n",
       "      <th>이유범</th>\n",
       "      <td>61</td>\n",
       "      <td>55</td>\n",
       "      <td>70</td>\n",
       "      <td>95</td>\n",
       "      <td>27</td>\n",
       "    </tr>\n",
       "    <tr>\n",
       "      <th>한우탁</th>\n",
       "      <td>39</td>\n",
       "      <td>89</td>\n",
       "      <td>93</td>\n",
       "      <td>52</td>\n",
       "      <td>82</td>\n",
       "    </tr>\n",
       "    <tr>\n",
       "      <th>신희민</th>\n",
       "      <td>70</td>\n",
       "      <td>49</td>\n",
       "      <td>28</td>\n",
       "      <td>16</td>\n",
       "      <td>35</td>\n",
       "    </tr>\n",
       "    <tr>\n",
       "      <th>어랏</th>\n",
       "      <td>왜</td>\n",
       "      <td>여기에</td>\n",
       "      <td>데이터가</td>\n",
       "      <td>…</td>\n",
       "      <td>실수^_^</td>\n",
       "    </tr>\n",
       "  </tbody>\n",
       "</table>\n",
       "</div>"
      ],
      "text/plain": [
       "     국어   수학    영어  사회     과학\n",
       "학생                           \n",
       "정재찬  25   33    50  42     82\n",
       "남홍주  90   96    85  72     44\n",
       "이유범  61   55    70  95     27\n",
       "한우탁  39   89    93  52     82\n",
       "신희민  70   49    28  16     35\n",
       "어랏    왜  여기에  데이터가   …  실수^_^"
      ]
     },
     "execution_count": 38,
     "metadata": {},
     "output_type": "execute_result"
    }
   ],
   "source": [
    "data = pd.read_excel(fpath, index_col = '학생')\n",
    "data"
   ]
  },
  {
   "cell_type": "markdown",
   "metadata": {},
   "source": [
    "위와 같이 data의 인덱스가 학생으로 잘 바뀌었습니다!\n",
    "&nbsp;  \n",
    "그런데 자꾸 실수로 적힌 부분이 눈에 거슬리죠?  \n",
    "이럴 때는 .head() 명령어를 사용하여 위에서부터 5개의 데이터만을 추출해서 볼 수 있습니다.\n",
    "\n",
    "@ 참고로 .head()의 반대인 .tail() 명령어도 존재합니다"
   ]
  },
  {
   "cell_type": "code",
   "execution_count": 31,
   "metadata": {},
   "outputs": [
    {
     "data": {
      "text/html": [
       "<div>\n",
       "<style scoped>\n",
       "    .dataframe tbody tr th:only-of-type {\n",
       "        vertical-align: middle;\n",
       "    }\n",
       "\n",
       "    .dataframe tbody tr th {\n",
       "        vertical-align: top;\n",
       "    }\n",
       "\n",
       "    .dataframe thead th {\n",
       "        text-align: right;\n",
       "    }\n",
       "</style>\n",
       "<table border=\"1\" class=\"dataframe\">\n",
       "  <thead>\n",
       "    <tr style=\"text-align: right;\">\n",
       "      <th></th>\n",
       "      <th>국어</th>\n",
       "      <th>수학</th>\n",
       "      <th>영어</th>\n",
       "      <th>사회</th>\n",
       "      <th>과학</th>\n",
       "    </tr>\n",
       "    <tr>\n",
       "      <th>학생</th>\n",
       "      <th></th>\n",
       "      <th></th>\n",
       "      <th></th>\n",
       "      <th></th>\n",
       "      <th></th>\n",
       "    </tr>\n",
       "  </thead>\n",
       "  <tbody>\n",
       "    <tr>\n",
       "      <th>정재찬</th>\n",
       "      <td>25</td>\n",
       "      <td>33</td>\n",
       "      <td>50</td>\n",
       "      <td>42</td>\n",
       "      <td>82</td>\n",
       "    </tr>\n",
       "    <tr>\n",
       "      <th>남홍주</th>\n",
       "      <td>90</td>\n",
       "      <td>96</td>\n",
       "      <td>85</td>\n",
       "      <td>72</td>\n",
       "      <td>44</td>\n",
       "    </tr>\n",
       "    <tr>\n",
       "      <th>이유범</th>\n",
       "      <td>61</td>\n",
       "      <td>55</td>\n",
       "      <td>70</td>\n",
       "      <td>95</td>\n",
       "      <td>27</td>\n",
       "    </tr>\n",
       "    <tr>\n",
       "      <th>한우탁</th>\n",
       "      <td>39</td>\n",
       "      <td>89</td>\n",
       "      <td>93</td>\n",
       "      <td>52</td>\n",
       "      <td>82</td>\n",
       "    </tr>\n",
       "    <tr>\n",
       "      <th>신희민</th>\n",
       "      <td>70</td>\n",
       "      <td>49</td>\n",
       "      <td>28</td>\n",
       "      <td>16</td>\n",
       "      <td>35</td>\n",
       "    </tr>\n",
       "  </tbody>\n",
       "</table>\n",
       "</div>"
      ],
      "text/plain": [
       "     국어  수학  영어  사회  과학\n",
       "학생                     \n",
       "정재찬  25  33  50  42  82\n",
       "남홍주  90  96  85  72  44\n",
       "이유범  61  55  70  95  27\n",
       "한우탁  39  89  93  52  82\n",
       "신희민  70  49  28  16  35"
      ]
     },
     "execution_count": 31,
     "metadata": {},
     "output_type": "execute_result"
    }
   ],
   "source": [
    "# .head() 명령어는 디폴트가 5줄이며 ()안에 숫자를 넣어 보고 싶은 데이터의 갯수를 조절할 수 있습니다\n",
    "data.head()"
   ]
  },
  {
   "cell_type": "code",
   "execution_count": 32,
   "metadata": {},
   "outputs": [
    {
     "data": {
      "text/html": [
       "<div>\n",
       "<style scoped>\n",
       "    .dataframe tbody tr th:only-of-type {\n",
       "        vertical-align: middle;\n",
       "    }\n",
       "\n",
       "    .dataframe tbody tr th {\n",
       "        vertical-align: top;\n",
       "    }\n",
       "\n",
       "    .dataframe thead th {\n",
       "        text-align: right;\n",
       "    }\n",
       "</style>\n",
       "<table border=\"1\" class=\"dataframe\">\n",
       "  <thead>\n",
       "    <tr style=\"text-align: right;\">\n",
       "      <th></th>\n",
       "      <th>국어</th>\n",
       "      <th>수학</th>\n",
       "      <th>영어</th>\n",
       "      <th>사회</th>\n",
       "      <th>과학</th>\n",
       "    </tr>\n",
       "    <tr>\n",
       "      <th>학생</th>\n",
       "      <th></th>\n",
       "      <th></th>\n",
       "      <th></th>\n",
       "      <th></th>\n",
       "      <th></th>\n",
       "    </tr>\n",
       "  </thead>\n",
       "  <tbody>\n",
       "    <tr>\n",
       "      <th>정재찬</th>\n",
       "      <td>25</td>\n",
       "      <td>33</td>\n",
       "      <td>50</td>\n",
       "      <td>42</td>\n",
       "      <td>82</td>\n",
       "    </tr>\n",
       "    <tr>\n",
       "      <th>남홍주</th>\n",
       "      <td>90</td>\n",
       "      <td>96</td>\n",
       "      <td>85</td>\n",
       "      <td>72</td>\n",
       "      <td>44</td>\n",
       "    </tr>\n",
       "  </tbody>\n",
       "</table>\n",
       "</div>"
      ],
      "text/plain": [
       "     국어  수학  영어  사회  과학\n",
       "학생                     \n",
       "정재찬  25  33  50  42  82\n",
       "남홍주  90  96  85  72  44"
      ]
     },
     "execution_count": 32,
     "metadata": {},
     "output_type": "execute_result"
    }
   ],
   "source": [
    "data.head(2)"
   ]
  },
  {
   "cell_type": "code",
   "execution_count": 39,
   "metadata": {},
   "outputs": [
    {
     "data": {
      "text/html": [
       "<div>\n",
       "<style scoped>\n",
       "    .dataframe tbody tr th:only-of-type {\n",
       "        vertical-align: middle;\n",
       "    }\n",
       "\n",
       "    .dataframe tbody tr th {\n",
       "        vertical-align: top;\n",
       "    }\n",
       "\n",
       "    .dataframe thead th {\n",
       "        text-align: right;\n",
       "    }\n",
       "</style>\n",
       "<table border=\"1\" class=\"dataframe\">\n",
       "  <thead>\n",
       "    <tr style=\"text-align: right;\">\n",
       "      <th></th>\n",
       "      <th>국어</th>\n",
       "      <th>수학</th>\n",
       "      <th>영어</th>\n",
       "      <th>사회</th>\n",
       "      <th>과학</th>\n",
       "    </tr>\n",
       "    <tr>\n",
       "      <th>학생</th>\n",
       "      <th></th>\n",
       "      <th></th>\n",
       "      <th></th>\n",
       "      <th></th>\n",
       "      <th></th>\n",
       "    </tr>\n",
       "  </thead>\n",
       "  <tbody>\n",
       "    <tr>\n",
       "      <th>정재찬</th>\n",
       "      <td>25</td>\n",
       "      <td>33</td>\n",
       "      <td>50</td>\n",
       "      <td>42</td>\n",
       "      <td>82</td>\n",
       "    </tr>\n",
       "    <tr>\n",
       "      <th>남홍주</th>\n",
       "      <td>90</td>\n",
       "      <td>96</td>\n",
       "      <td>85</td>\n",
       "      <td>72</td>\n",
       "      <td>44</td>\n",
       "    </tr>\n",
       "    <tr>\n",
       "      <th>이유범</th>\n",
       "      <td>61</td>\n",
       "      <td>55</td>\n",
       "      <td>70</td>\n",
       "      <td>95</td>\n",
       "      <td>27</td>\n",
       "    </tr>\n",
       "    <tr>\n",
       "      <th>한우탁</th>\n",
       "      <td>39</td>\n",
       "      <td>89</td>\n",
       "      <td>93</td>\n",
       "      <td>52</td>\n",
       "      <td>82</td>\n",
       "    </tr>\n",
       "    <tr>\n",
       "      <th>신희민</th>\n",
       "      <td>70</td>\n",
       "      <td>49</td>\n",
       "      <td>28</td>\n",
       "      <td>16</td>\n",
       "      <td>35</td>\n",
       "    </tr>\n",
       "    <tr>\n",
       "      <th>어랏</th>\n",
       "      <td>왜</td>\n",
       "      <td>여기에</td>\n",
       "      <td>데이터가</td>\n",
       "      <td>…</td>\n",
       "      <td>실수^_^</td>\n",
       "    </tr>\n",
       "  </tbody>\n",
       "</table>\n",
       "</div>"
      ],
      "text/plain": [
       "     국어   수학    영어  사회     과학\n",
       "학생                           \n",
       "정재찬  25   33    50  42     82\n",
       "남홍주  90   96    85  72     44\n",
       "이유범  61   55    70  95     27\n",
       "한우탁  39   89    93  52     82\n",
       "신희민  70   49    28  16     35\n",
       "어랏    왜  여기에  데이터가   …  실수^_^"
      ]
     },
     "execution_count": 39,
     "metadata": {},
     "output_type": "execute_result"
    }
   ],
   "source": [
    "# data = data.head()\n",
    "data"
   ]
  },
  {
   "cell_type": "markdown",
   "metadata": {},
   "source": [
    "이 데이터프레임에서 '어랏'이라는 데이터는 필요가 없으니 삭제가 필요합니다.  \n",
    "앞서 배운 것처럼 위에서 다섯줄만 보여주는 .head() 명령어를 사용해도 되지만 다른 방법도 있습니다."
   ]
  },
  {
   "cell_type": "markdown",
   "metadata": {},
   "source": [
    "아예 가장 마지막 줄을 잘라내는 것입니다.  \n",
    ".drop() 명령어를 사용해 가장 아랫줄을 잘라보겠습니다."
   ]
  },
  {
   "cell_type": "code",
   "execution_count": 40,
   "metadata": {},
   "outputs": [
    {
     "data": {
      "text/html": [
       "<div>\n",
       "<style scoped>\n",
       "    .dataframe tbody tr th:only-of-type {\n",
       "        vertical-align: middle;\n",
       "    }\n",
       "\n",
       "    .dataframe tbody tr th {\n",
       "        vertical-align: top;\n",
       "    }\n",
       "\n",
       "    .dataframe thead th {\n",
       "        text-align: right;\n",
       "    }\n",
       "</style>\n",
       "<table border=\"1\" class=\"dataframe\">\n",
       "  <thead>\n",
       "    <tr style=\"text-align: right;\">\n",
       "      <th></th>\n",
       "      <th>국어</th>\n",
       "      <th>수학</th>\n",
       "      <th>영어</th>\n",
       "      <th>사회</th>\n",
       "      <th>과학</th>\n",
       "    </tr>\n",
       "    <tr>\n",
       "      <th>학생</th>\n",
       "      <th></th>\n",
       "      <th></th>\n",
       "      <th></th>\n",
       "      <th></th>\n",
       "      <th></th>\n",
       "    </tr>\n",
       "  </thead>\n",
       "  <tbody>\n",
       "    <tr>\n",
       "      <th>정재찬</th>\n",
       "      <td>25</td>\n",
       "      <td>33</td>\n",
       "      <td>50</td>\n",
       "      <td>42</td>\n",
       "      <td>82</td>\n",
       "    </tr>\n",
       "    <tr>\n",
       "      <th>남홍주</th>\n",
       "      <td>90</td>\n",
       "      <td>96</td>\n",
       "      <td>85</td>\n",
       "      <td>72</td>\n",
       "      <td>44</td>\n",
       "    </tr>\n",
       "    <tr>\n",
       "      <th>이유범</th>\n",
       "      <td>61</td>\n",
       "      <td>55</td>\n",
       "      <td>70</td>\n",
       "      <td>95</td>\n",
       "      <td>27</td>\n",
       "    </tr>\n",
       "    <tr>\n",
       "      <th>한우탁</th>\n",
       "      <td>39</td>\n",
       "      <td>89</td>\n",
       "      <td>93</td>\n",
       "      <td>52</td>\n",
       "      <td>82</td>\n",
       "    </tr>\n",
       "    <tr>\n",
       "      <th>신희민</th>\n",
       "      <td>70</td>\n",
       "      <td>49</td>\n",
       "      <td>28</td>\n",
       "      <td>16</td>\n",
       "      <td>35</td>\n",
       "    </tr>\n",
       "  </tbody>\n",
       "</table>\n",
       "</div>"
      ],
      "text/plain": [
       "     국어  수학  영어  사회  과학\n",
       "학생                     \n",
       "정재찬  25  33  50  42  82\n",
       "남홍주  90  96  85  72  44\n",
       "이유범  61  55  70  95  27\n",
       "한우탁  39  89  93  52  82\n",
       "신희민  70  49  28  16  35"
      ]
     },
     "execution_count": 40,
     "metadata": {},
     "output_type": "execute_result"
    }
   ],
   "source": [
    "data = data.drop('어랏', axis = 0)  # axis = 0 :  row(행), axis = 1 : column(열)\n",
    "                # '어랏' 이라는 인덱스를 가진 행을 잘라내줘!\n",
    "data"
   ]
  },
  {
   "cell_type": "markdown",
   "metadata": {},
   "source": [
    "\n"
   ]
  },
  {
   "cell_type": "code",
   "execution_count": null,
   "metadata": {},
   "outputs": [],
   "source": [
    "#### 앞으로 마지막 실수로 넣은 데이터를 뺀 위에서 다섯번째 줄까지만 사용해서 실습해보겠습니다."
   ]
  },
  {
   "cell_type": "markdown",
   "metadata": {},
   "source": [
    "&nbsp;"
   ]
  },
  {
   "cell_type": "markdown",
   "metadata": {},
   "source": [
    "&nbsp;"
   ]
  },
  {
   "cell_type": "markdown",
   "metadata": {},
   "source": [
    "### 데이터를 불러왔으니 몇 가지 가공을 해봅시다~\n",
    "\n",
    " - .info() : 가장 기본적인 명령어로 데이터를 불러온 뒤 기본 정보들을 확인할 수 있습니다."
   ]
  },
  {
   "cell_type": "code",
   "execution_count": 53,
   "metadata": {},
   "outputs": [
    {
     "name": "stdout",
     "output_type": "stream",
     "text": [
      "<class 'pandas.core.frame.DataFrame'>\n",
      "Index: 5 entries, 정재찬 to 신희민\n",
      "Data columns (total 5 columns):\n",
      " #   Column  Non-Null Count  Dtype \n",
      "---  ------  --------------  ----- \n",
      " 0   국어      5 non-null      object\n",
      " 1   수학      5 non-null      object\n",
      " 2   영어      5 non-null      object\n",
      " 3   사회      5 non-null      object\n",
      " 4   과학      5 non-null      object\n",
      "dtypes: object(5)\n",
      "memory usage: 400.0+ bytes\n"
     ]
    }
   ],
   "source": [
    "data.info()"
   ]
  },
  {
   "cell_type": "markdown",
   "metadata": {},
   "source": [
    "- .describe() : 수치형 데이터가 들어있는 컬럼의 기초통계량(개수, 평균, 표준편차, 사분위 등)을 확인할 수 있습니다. "
   ]
  },
  {
   "cell_type": "code",
   "execution_count": 56,
   "metadata": {},
   "outputs": [
    {
     "data": {
      "text/html": [
       "<div>\n",
       "<style scoped>\n",
       "    .dataframe tbody tr th:only-of-type {\n",
       "        vertical-align: middle;\n",
       "    }\n",
       "\n",
       "    .dataframe tbody tr th {\n",
       "        vertical-align: top;\n",
       "    }\n",
       "\n",
       "    .dataframe thead th {\n",
       "        text-align: right;\n",
       "    }\n",
       "</style>\n",
       "<table border=\"1\" class=\"dataframe\">\n",
       "  <thead>\n",
       "    <tr style=\"text-align: right;\">\n",
       "      <th></th>\n",
       "      <th>국어</th>\n",
       "      <th>수학</th>\n",
       "      <th>영어</th>\n",
       "      <th>사회</th>\n",
       "      <th>과학</th>\n",
       "    </tr>\n",
       "  </thead>\n",
       "  <tbody>\n",
       "    <tr>\n",
       "      <th>count</th>\n",
       "      <td>5</td>\n",
       "      <td>5</td>\n",
       "      <td>5</td>\n",
       "      <td>5</td>\n",
       "      <td>5</td>\n",
       "    </tr>\n",
       "    <tr>\n",
       "      <th>unique</th>\n",
       "      <td>5</td>\n",
       "      <td>5</td>\n",
       "      <td>5</td>\n",
       "      <td>5</td>\n",
       "      <td>4</td>\n",
       "    </tr>\n",
       "    <tr>\n",
       "      <th>top</th>\n",
       "      <td>39</td>\n",
       "      <td>55</td>\n",
       "      <td>70</td>\n",
       "      <td>95</td>\n",
       "      <td>82</td>\n",
       "    </tr>\n",
       "    <tr>\n",
       "      <th>freq</th>\n",
       "      <td>1</td>\n",
       "      <td>1</td>\n",
       "      <td>1</td>\n",
       "      <td>1</td>\n",
       "      <td>2</td>\n",
       "    </tr>\n",
       "  </tbody>\n",
       "</table>\n",
       "</div>"
      ],
      "text/plain": [
       "        국어  수학  영어  사회  과학\n",
       "count    5   5   5   5   5\n",
       "unique   5   5   5   5   4\n",
       "top     39  55  70  95  82\n",
       "freq     1   1   1   1   2"
      ]
     },
     "execution_count": 56,
     "metadata": {},
     "output_type": "execute_result"
    }
   ],
   "source": [
    "data.describe()"
   ]
  },
  {
   "cell_type": "markdown",
   "metadata": {},
   "source": [
    "- .iloc[] : 해당 row의 값을 가져오는 명령어 \n",
    "- .loc[] : 해당 row의 값을 가져오는 명령어  \n",
    "엥? 그럼 똑같은거 아닌가? -> iloc은 해당 row의 번호로, loc은 해당 row의 라벨로 값을 불러옵니다!"
   ]
  },
  {
   "cell_type": "code",
   "execution_count": 49,
   "metadata": {},
   "outputs": [
    {
     "data": {
      "text/plain": [
       "국어    25\n",
       "수학    33\n",
       "영어    50\n",
       "사회    42\n",
       "과학    82\n",
       "Name: 정재찬, dtype: object"
      ]
     },
     "execution_count": 49,
     "metadata": {},
     "output_type": "execute_result"
    }
   ],
   "source": [
    "# 재찬이의 과목별 점수를 가져와봅시당~\n",
    "# 1. iloc[]을 이용\n",
    "data.iloc[0]"
   ]
  },
  {
   "cell_type": "code",
   "execution_count": 50,
   "metadata": {},
   "outputs": [
    {
     "data": {
      "text/plain": [
       "국어    25\n",
       "수학    33\n",
       "영어    50\n",
       "사회    42\n",
       "과학    82\n",
       "Name: 정재찬, dtype: object"
      ]
     },
     "execution_count": 50,
     "metadata": {},
     "output_type": "execute_result"
    }
   ],
   "source": [
    "# 2. loc[]을 이용\n",
    "data.loc['정재찬']"
   ]
  },
  {
   "cell_type": "markdown",
   "metadata": {},
   "source": [
    "- .index : 데이터프레임의 인덱스를 확인할 수 있습니다."
   ]
  },
  {
   "cell_type": "code",
   "execution_count": 61,
   "metadata": {},
   "outputs": [
    {
     "data": {
      "text/plain": [
       "Index(['정재찬', '남홍주', '이유범', '한우탁', '신희민'], dtype='object', name='학생')"
      ]
     },
     "execution_count": 61,
     "metadata": {},
     "output_type": "execute_result"
    }
   ],
   "source": [
    "data.index"
   ]
  },
  {
   "cell_type": "markdown",
   "metadata": {},
   "source": [
    "- .columns : 데이터프레임의 컬럼 정보를 확인할 수 있습니다."
   ]
  },
  {
   "cell_type": "code",
   "execution_count": 62,
   "metadata": {},
   "outputs": [
    {
     "data": {
      "text/plain": [
       "Index(['국어', '수학', '영어', '사회', '과학'], dtype='object')"
      ]
     },
     "execution_count": 62,
     "metadata": {},
     "output_type": "execute_result"
    }
   ],
   "source": [
    "data.columns"
   ]
  },
  {
   "cell_type": "markdown",
   "metadata": {},
   "source": [
    "- .columns = [] : 데이터프레임의 컬럼명을 바꿀 수 있습니다."
   ]
  },
  {
   "cell_type": "code",
   "execution_count": null,
   "metadata": {},
   "outputs": [],
   "source": [
    "data.columns = ['korean', 'math', 'english', 'society', 'science']\n",
    "data"
   ]
  },
  {
   "cell_type": "markdown",
   "metadata": {},
   "source": [
    "&nbsp;"
   ]
  },
  {
   "cell_type": "markdown",
   "metadata": {},
   "source": [
    "### 데이터의 평균을 구하고 엑셀파일로 내보내봅시다."
   ]
  },
  {
   "cell_type": "markdown",
   "metadata": {},
   "source": [
    "- .mean() : 데이터 값의 열(column) 평균을 구할 수 있다. \n",
    "- .mean(axis = 1) : 데이터 값의 행(row) 평균을 구할 수 있다."
   ]
  },
  {
   "cell_type": "code",
   "execution_count": 70,
   "metadata": {},
   "outputs": [
    {
     "data": {
      "text/html": [
       "<div>\n",
       "<style scoped>\n",
       "    .dataframe tbody tr th:only-of-type {\n",
       "        vertical-align: middle;\n",
       "    }\n",
       "\n",
       "    .dataframe tbody tr th {\n",
       "        vertical-align: top;\n",
       "    }\n",
       "\n",
       "    .dataframe thead th {\n",
       "        text-align: right;\n",
       "    }\n",
       "</style>\n",
       "<table border=\"1\" class=\"dataframe\">\n",
       "  <thead>\n",
       "    <tr style=\"text-align: right;\">\n",
       "      <th></th>\n",
       "      <th>korean</th>\n",
       "      <th>math</th>\n",
       "      <th>english</th>\n",
       "      <th>society</th>\n",
       "      <th>science</th>\n",
       "      <th>평균</th>\n",
       "    </tr>\n",
       "    <tr>\n",
       "      <th>학생</th>\n",
       "      <th></th>\n",
       "      <th></th>\n",
       "      <th></th>\n",
       "      <th></th>\n",
       "      <th></th>\n",
       "      <th></th>\n",
       "    </tr>\n",
       "  </thead>\n",
       "  <tbody>\n",
       "    <tr>\n",
       "      <th>정재찬</th>\n",
       "      <td>25</td>\n",
       "      <td>33</td>\n",
       "      <td>50</td>\n",
       "      <td>42</td>\n",
       "      <td>82</td>\n",
       "      <td>46.4</td>\n",
       "    </tr>\n",
       "    <tr>\n",
       "      <th>남홍주</th>\n",
       "      <td>90</td>\n",
       "      <td>96</td>\n",
       "      <td>85</td>\n",
       "      <td>72</td>\n",
       "      <td>44</td>\n",
       "      <td>77.4</td>\n",
       "    </tr>\n",
       "    <tr>\n",
       "      <th>이유범</th>\n",
       "      <td>61</td>\n",
       "      <td>55</td>\n",
       "      <td>70</td>\n",
       "      <td>95</td>\n",
       "      <td>27</td>\n",
       "      <td>61.6</td>\n",
       "    </tr>\n",
       "    <tr>\n",
       "      <th>한우탁</th>\n",
       "      <td>39</td>\n",
       "      <td>89</td>\n",
       "      <td>93</td>\n",
       "      <td>52</td>\n",
       "      <td>82</td>\n",
       "      <td>71.0</td>\n",
       "    </tr>\n",
       "    <tr>\n",
       "      <th>신희민</th>\n",
       "      <td>70</td>\n",
       "      <td>49</td>\n",
       "      <td>28</td>\n",
       "      <td>16</td>\n",
       "      <td>35</td>\n",
       "      <td>39.6</td>\n",
       "    </tr>\n",
       "  </tbody>\n",
       "</table>\n",
       "</div>"
      ],
      "text/plain": [
       "    korean math english society science    평균\n",
       "학생                                           \n",
       "정재찬     25   33      50      42      82  46.4\n",
       "남홍주     90   96      85      72      44  77.4\n",
       "이유범     61   55      70      95      27  61.6\n",
       "한우탁     39   89      93      52      82  71.0\n",
       "신희민     70   49      28      16      35  39.6"
      ]
     },
     "execution_count": 70,
     "metadata": {},
     "output_type": "execute_result"
    }
   ],
   "source": [
    "data.mean() # 데이터의 평균을 구합니다.\n",
    "data['평균'] = data.mean(axis = 1) # 평균이라는 컬럼을 새로 만든 후 데이터의 평균을 담습니다.\n",
    "data"
   ]
  },
  {
   "cell_type": "markdown",
   "metadata": {},
   "source": [
    "&nbsp;"
   ]
  },
  {
   "cell_type": "markdown",
   "metadata": {},
   "source": [
    "#### 위와 같이 변형시킨 데이터 프레임을 이제 엑셀로 내보냅니다.\n",
    "- .to_excel('파일경로+파일명')"
   ]
  },
  {
   "cell_type": "code",
   "execution_count": 71,
   "metadata": {},
   "outputs": [],
   "source": [
    "data.to_excel('./posting_data/ex_student_1.xlsx')"
   ]
  },
  {
   "cell_type": "code",
   "execution_count": null,
   "metadata": {},
   "outputs": [],
   "source": []
  },
  {
   "cell_type": "code",
   "execution_count": null,
   "metadata": {},
   "outputs": [],
   "source": []
  }
 ],
 "metadata": {
  "kernelspec": {
   "display_name": "Python 3",
   "language": "python",
   "name": "python3"
  },
  "language_info": {
   "codemirror_mode": {
    "name": "ipython",
    "version": 3
   },
   "file_extension": ".py",
   "mimetype": "text/x-python",
   "name": "python",
   "nbconvert_exporter": "python",
   "pygments_lexer": "ipython3",
   "version": "3.8.3"
  }
 },
 "nbformat": 4,
 "nbformat_minor": 4
}
